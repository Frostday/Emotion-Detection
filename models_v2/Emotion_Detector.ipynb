{
  "nbformat": 4,
  "nbformat_minor": 0,
  "metadata": {
    "colab": {
      "name": "Emotion-Detector.ipynb",
      "provenance": [],
      "collapsed_sections": [],
      "toc_visible": true
    },
    "kernelspec": {
      "name": "python3",
      "display_name": "Python 3"
    },
    "accelerator": "GPU"
  },
  "cells": [
    {
      "cell_type": "markdown",
      "metadata": {
        "id": "r6L_ox912pQP"
      },
      "source": [
        "# Setup"
      ]
    },
    {
      "cell_type": "code",
      "metadata": {
        "colab": {
          "base_uri": "https://localhost:8080/"
        },
        "id": "zZKnczBsJcv4",
        "outputId": "75931373-b70d-4c4b-d203-560dba284ab7"
      },
      "source": [
        "from google.colab import drive\r\n",
        "drive.mount('/content/drive')"
      ],
      "execution_count": null,
      "outputs": [
        {
          "output_type": "stream",
          "text": [
            "Mounted at /content/drive\n"
          ],
          "name": "stdout"
        }
      ]
    },
    {
      "cell_type": "code",
      "metadata": {
        "colab": {
          "base_uri": "https://localhost:8080/"
        },
        "id": "Xm7n1zic2rPt",
        "outputId": "59c43a79-338a-445a-8f88-998aed529eb7"
      },
      "source": [
        "!gdown 'https://drive.google.com/uc?id=1nXgzN9_D3qPEByPvrEyLUcy4dBRCLb1f'"
      ],
      "execution_count": null,
      "outputs": [
        {
          "output_type": "stream",
          "text": [
            "Downloading...\n",
            "From: https://drive.google.com/uc?id=1nXgzN9_D3qPEByPvrEyLUcy4dBRCLb1f\n",
            "To: /content/data.zip\n",
            "68.5MB [00:01, 34.8MB/s]\n"
          ],
          "name": "stdout"
        }
      ]
    },
    {
      "cell_type": "code",
      "metadata": {
        "id": "j1fpT_ow22KV"
      },
      "source": [
        "!unzip data.zip"
      ],
      "execution_count": null,
      "outputs": []
    },
    {
      "cell_type": "markdown",
      "metadata": {
        "id": "k7wD08t627zp"
      },
      "source": [
        "# Data Cleaning"
      ]
    },
    {
      "cell_type": "code",
      "metadata": {
        "id": "-ylKo0rkqOaK",
        "colab": {
          "base_uri": "https://localhost:8080/"
        },
        "outputId": "ddb4560d-a5e6-4ed2-d9e9-77269129ffef"
      },
      "source": [
        "import os\r\n",
        "import shutil\r\n",
        "\r\n",
        "PATH = 'data/'\r\n",
        "\r\n",
        "train_count = 0\r\n",
        "test_count = 0\r\n",
        "classes = os.listdir(os.path.join(PATH, \"test/\"))\r\n",
        "\r\n",
        "for cl in classes:\r\n",
        "    print(cl, \":\", len(os.listdir(os.path.join(PATH, \"train\", cl))))\r\n",
        "    train_count += len(os.listdir(os.path.join(PATH, \"train\", cl)))\r\n",
        "\r\n",
        "print(\"total train images:\", train_count)\r\n",
        "\r\n",
        "for cl in classes:\r\n",
        "    print(cl, \":\", len(os.listdir(os.path.join(PATH, \"test\", cl))))\r\n",
        "    test_count += len(os.listdir(os.path.join(PATH, \"test\", cl)))\r\n",
        "\r\n",
        "print(\"total test images:\", test_count)"
      ],
      "execution_count": null,
      "outputs": [
        {
          "output_type": "stream",
          "text": [
            "disgusted : 436\n",
            "sad : 4830\n",
            "neutral : 4965\n",
            "fearful : 4097\n",
            "happy : 7215\n",
            "angry : 3995\n",
            "surprised : 3171\n",
            "total train images: 28709\n",
            "disgusted : 111\n",
            "sad : 1247\n",
            "neutral : 1233\n",
            "fearful : 1024\n",
            "happy : 1774\n",
            "angry : 958\n",
            "surprised : 831\n",
            "total test images: 7178\n"
          ],
          "name": "stdout"
        }
      ]
    },
    {
      "cell_type": "code",
      "metadata": {
        "id": "sW7aHODycFzC"
      },
      "source": [
        "# copying angry, surprised and disgusted pics from test folder to train folder\r\n",
        "\r\n",
        "names = os.listdir(\"data/train/surprised\")\r\n",
        "for name in names:\r\n",
        "  new = name.replace('im', 'img')\r\n",
        "  os.rename(os.path.join(\"data/train/surprised\", name), os.path.join(\"data/train/surprised\", new))\r\n",
        "\r\n",
        "images = os.listdir(\"data/test/surprised\")\r\n",
        "for i in images:\r\n",
        "  shutil.copy(os.path.join(\"data/test/surprised\", i), \"data/train/surprised\")\r\n",
        "  if len(os.listdir(\"data/train/surprised\")) == 4000:\r\n",
        "    break\r\n",
        "\r\n",
        "names = os.listdir(\"data/train/disgusted\")\r\n",
        "for name in names:\r\n",
        "  new = name.replace('im', 'img')\r\n",
        "  os.rename(os.path.join(\"data/train/disgusted\", name), os.path.join(\"data/train/disgusted\", new))\r\n",
        "\r\n",
        "images = os.listdir(\"data/test/disgusted\")\r\n",
        "for i in images:\r\n",
        "  shutil.copy(os.path.join(\"data/test/disgusted\", i), \"data/train/disgusted\")\r\n",
        "\r\n",
        "names = os.listdir(\"data/train/angry\")\r\n",
        "for name in names:\r\n",
        "  new = name.replace('im', 'img')\r\n",
        "  os.rename(os.path.join(\"data/train/angry\", name), os.path.join(\"data/train/angry\", new))\r\n",
        "\r\n",
        "images = os.listdir(\"data/test/angry\")\r\n",
        "for i in images:\r\n",
        "  shutil.copy(os.path.join(\"data/test/angry\", i), \"data/train/angry\")\r\n",
        "  if len(os.listdir(\"data/train/angry\")) == 4000:\r\n",
        "    break"
      ],
      "execution_count": null,
      "outputs": []
    },
    {
      "cell_type": "code",
      "metadata": {
        "colab": {
          "base_uri": "https://localhost:8080/"
        },
        "id": "_LiG1l10cIVA",
        "outputId": "c334a0ad-7260-4810-bd01-593352cec427"
      },
      "source": [
        "# Deleting pics from all categories with more than 4000 pics(train)\r\n",
        "\r\n",
        "del_list = []\r\n",
        "\r\n",
        "for cl in classes:\r\n",
        "  l = os.listdir(os.path.join(\"data/train\", cl))\r\n",
        "  if len(l) > 4000:\r\n",
        "    for i in l[4000:]:\r\n",
        "      del_list.append(os.path.join(\"data/train\", cl, i))\r\n",
        "print(len(del_list))\r\n",
        "\r\n",
        "for i in del_list:\r\n",
        "  os.remove(i)"
      ],
      "execution_count": null,
      "outputs": [
        {
          "output_type": "stream",
          "text": [
            "5107\n"
          ],
          "name": "stdout"
        }
      ]
    },
    {
      "cell_type": "code",
      "metadata": {
        "colab": {
          "base_uri": "https://localhost:8080/"
        },
        "id": "6435kG4dEQ5m",
        "outputId": "e49f21e8-1e12-410e-ecb6-15c2feacd4f4"
      },
      "source": [
        "# Deleting pics from all categories with more than 1000 pics(test)\r\n",
        "\r\n",
        "del_list = []\r\n",
        "\r\n",
        "for cl in classes:\r\n",
        "  l = os.listdir(os.path.join(\"data/test\", cl))\r\n",
        "  if len(l) > 1000:\r\n",
        "    for i in l[1000:]:\r\n",
        "      del_list.append(os.path.join(\"data/test\", cl, i))\r\n",
        "print(len(del_list))\r\n",
        "\r\n",
        "for i in del_list:\r\n",
        "  os.remove(i)"
      ],
      "execution_count": null,
      "outputs": [
        {
          "output_type": "stream",
          "text": [
            "1278\n"
          ],
          "name": "stdout"
        }
      ]
    },
    {
      "cell_type": "code",
      "metadata": {
        "colab": {
          "base_uri": "https://localhost:8080/"
        },
        "id": "Rxc5BifSdayx",
        "outputId": "87fef76b-cb35-4574-f2eb-d76556b7da3e"
      },
      "source": [
        "PATH = 'data/'\r\n",
        "\r\n",
        "train_count = 0\r\n",
        "test_count = 0\r\n",
        "classes = os.listdir(os.path.join(PATH, \"test/\"))\r\n",
        "\r\n",
        "for cl in classes:\r\n",
        "    print(cl, \":\", len(os.listdir(os.path.join(PATH, \"train\", cl))))\r\n",
        "    train_count += len(os.listdir(os.path.join(PATH, \"train\", cl)))\r\n",
        "\r\n",
        "print(\"total train images:\", train_count)\r\n",
        "\r\n",
        "for cl in classes:\r\n",
        "    print(cl, \":\", len(os.listdir(os.path.join(PATH, \"test\", cl))))\r\n",
        "    test_count += len(os.listdir(os.path.join(PATH, \"test\", cl)))\r\n",
        "\r\n",
        "print(\"total test images:\", test_count)"
      ],
      "execution_count": null,
      "outputs": [
        {
          "output_type": "stream",
          "text": [
            "disgusted : 547\n",
            "sad : 4000\n",
            "neutral : 4000\n",
            "fearful : 4000\n",
            "happy : 4000\n",
            "angry : 4000\n",
            "surprised : 4000\n",
            "total train images: 24547\n",
            "disgusted : 111\n",
            "sad : 1000\n",
            "neutral : 1000\n",
            "fearful : 1000\n",
            "happy : 1000\n",
            "angry : 958\n",
            "surprised : 831\n",
            "total test images: 5900\n"
          ],
          "name": "stdout"
        }
      ]
    },
    {
      "cell_type": "markdown",
      "metadata": {
        "id": "d5B-CHTFXf1R"
      },
      "source": [
        "# Model"
      ]
    },
    {
      "cell_type": "code",
      "metadata": {
        "id": "gE7ybshD25F9"
      },
      "source": [
        "import numpy as np\r\n",
        "import cv2\r\n",
        "import pandas as pd\r\n",
        "import matplotlib.pyplot as plt\r\n",
        "\r\n",
        "import tensorflow as tf\r\n",
        "from tensorflow.keras.layers import *\r\n",
        "from tensorflow.keras.models import Model, Sequential\r\n",
        "import tensorflow.keras.backend as K\r\n",
        "from tensorflow.keras.preprocessing import image\r\n",
        "from tensorflow.keras.preprocessing.image import ImageDataGenerator\r\n",
        "from tensorflow.keras import regularizers\r\n",
        "from tensorflow.keras.regularizers import l1"
      ],
      "execution_count": null,
      "outputs": []
    },
    {
      "cell_type": "code",
      "metadata": {
        "id": "2fjYhuIUFCoD"
      },
      "source": [
        "IMAGE_SIZE = [48, 48]\r\n",
        "epochs = 150\r\n",
        "BATCH_SIZE = 32\r\n",
        "PATH = './data/'"
      ],
      "execution_count": null,
      "outputs": []
    },
    {
      "cell_type": "code",
      "metadata": {
        "colab": {
          "base_uri": "https://localhost:8080/"
        },
        "id": "F9DFeSOYFNAh",
        "outputId": "9b751c44-9722-40ab-f1a1-d31d8b0b3038"
      },
      "source": [
        "# Create the model\r\n",
        "model = Sequential()\r\n",
        "\r\n",
        "model.add(Conv2D(32, kernel_size=(3, 3), activation='relu',kernel_regularizer=regularizers.l2(0.0001),input_shape=(48,48,1)))\r\n",
        "model.add(BatchNormalization())\r\n",
        "model.add(Conv2D(64, kernel_size=(3, 3), activation='relu',kernel_regularizer=regularizers.l2(0.0001)))\r\n",
        "model.add(BatchNormalization())\r\n",
        "model.add(MaxPooling2D(pool_size=(2, 2)))\r\n",
        "model.add(Conv2D(128, kernel_size=(3, 3), activation='relu', kernel_regularizer=regularizers.l2(0.0001)))\r\n",
        "model.add(BatchNormalization())\r\n",
        "model.add(MaxPooling2D(pool_size=(2, 2)))\r\n",
        "model.add(Conv2D(128, kernel_size=(3, 3), activation='relu', kernel_regularizer=regularizers.l2(0.0001)))\r\n",
        "model.add(BatchNormalization())\r\n",
        "model.add(MaxPooling2D(pool_size=(2, 2)))\r\n",
        "model.add(Conv2D(7, kernel_size=(1, 1), activation='relu', kernel_regularizer=regularizers.l2(0.0001)))\r\n",
        "model.add(BatchNormalization())\r\n",
        "model.add(Conv2D(7, kernel_size=(4, 4), activation='relu', kernel_regularizer=regularizers.l2(0.0001)))\r\n",
        "model.add(BatchNormalization())\r\n",
        "\r\n",
        "model.add(Flatten())\r\n",
        "\r\n",
        "model.add(Dense(1024, activation='relu'))\r\n",
        "model.add(Dropout(0.5))\r\n",
        "model.add(Dense(7, activation='softmax'))\r\n",
        "\r\n",
        "model.compile(loss='categorical_crossentropy', optimizer='rmsprop', metrics=['accuracy'])\r\n",
        "\r\n",
        "model.summary()\r\n"
      ],
      "execution_count": null,
      "outputs": [
        {
          "output_type": "stream",
          "text": [
            "Model: \"sequential\"\n",
            "_________________________________________________________________\n",
            "Layer (type)                 Output Shape              Param #   \n",
            "=================================================================\n",
            "conv2d (Conv2D)              (None, 46, 46, 32)        320       \n",
            "_________________________________________________________________\n",
            "batch_normalization (BatchNo (None, 46, 46, 32)        128       \n",
            "_________________________________________________________________\n",
            "conv2d_1 (Conv2D)            (None, 44, 44, 64)        18496     \n",
            "_________________________________________________________________\n",
            "batch_normalization_1 (Batch (None, 44, 44, 64)        256       \n",
            "_________________________________________________________________\n",
            "max_pooling2d (MaxPooling2D) (None, 22, 22, 64)        0         \n",
            "_________________________________________________________________\n",
            "conv2d_2 (Conv2D)            (None, 20, 20, 128)       73856     \n",
            "_________________________________________________________________\n",
            "batch_normalization_2 (Batch (None, 20, 20, 128)       512       \n",
            "_________________________________________________________________\n",
            "max_pooling2d_1 (MaxPooling2 (None, 10, 10, 128)       0         \n",
            "_________________________________________________________________\n",
            "conv2d_3 (Conv2D)            (None, 8, 8, 128)         147584    \n",
            "_________________________________________________________________\n",
            "batch_normalization_3 (Batch (None, 8, 8, 128)         512       \n",
            "_________________________________________________________________\n",
            "max_pooling2d_2 (MaxPooling2 (None, 4, 4, 128)         0         \n",
            "_________________________________________________________________\n",
            "conv2d_4 (Conv2D)            (None, 4, 4, 7)           903       \n",
            "_________________________________________________________________\n",
            "batch_normalization_4 (Batch (None, 4, 4, 7)           28        \n",
            "_________________________________________________________________\n",
            "conv2d_5 (Conv2D)            (None, 1, 1, 7)           791       \n",
            "_________________________________________________________________\n",
            "batch_normalization_5 (Batch (None, 1, 1, 7)           28        \n",
            "_________________________________________________________________\n",
            "flatten (Flatten)            (None, 7)                 0         \n",
            "_________________________________________________________________\n",
            "dense (Dense)                (None, 1024)              8192      \n",
            "_________________________________________________________________\n",
            "dropout (Dropout)            (None, 1024)              0         \n",
            "_________________________________________________________________\n",
            "dense_1 (Dense)              (None, 7)                 7175      \n",
            "=================================================================\n",
            "Total params: 258,781\n",
            "Trainable params: 258,049\n",
            "Non-trainable params: 732\n",
            "_________________________________________________________________\n"
          ],
          "name": "stdout"
        }
      ]
    },
    {
      "cell_type": "code",
      "metadata": {
        "colab": {
          "base_uri": "https://localhost:8080/"
        },
        "id": "AswP-iJMFphp",
        "outputId": "886fc359-e9b8-4194-a14c-27d0e2e01f74"
      },
      "source": [
        "val_datagen = ImageDataGenerator(rescale=1./255)\r\n",
        "\r\n",
        "train_datagen = ImageDataGenerator(\r\n",
        "      rescale=1./255,\r\n",
        "      rotation_range=30,\r\n",
        "      shear_range=0.3,\r\n",
        "      zoom_range=0.3,\r\n",
        "      horizontal_flip=True,\r\n",
        "      fill_mode='nearest')\r\n",
        "\r\n",
        "train_generator = train_datagen.flow_from_directory(\r\n",
        "      os.path.join(PATH, \"train\"),\r\n",
        "      target_size=(48,48),\r\n",
        "      batch_size=BATCH_SIZE,\r\n",
        "      color_mode=\"grayscale\",\r\n",
        "      class_mode='categorical')\r\n",
        "\r\n",
        "val_generator = val_datagen.flow_from_directory(\r\n",
        "      os.path.join(PATH, \"test\"),\r\n",
        "      target_size=(48,48),\r\n",
        "      batch_size=BATCH_SIZE,\r\n",
        "      color_mode=\"grayscale\",\r\n",
        "      class_mode='categorical')"
      ],
      "execution_count": null,
      "outputs": [
        {
          "output_type": "stream",
          "text": [
            "Found 24547 images belonging to 7 classes.\n",
            "Found 5900 images belonging to 7 classes.\n"
          ],
          "name": "stdout"
        }
      ]
    },
    {
      "cell_type": "code",
      "metadata": {
        "colab": {
          "base_uri": "https://localhost:8080/"
        },
        "id": "MlUIvtpDKh8J",
        "outputId": "b90a9f0d-0a42-47dd-da29-71f9e834dd4a"
      },
      "source": [
        "train_generator.class_indices"
      ],
      "execution_count": null,
      "outputs": [
        {
          "output_type": "execute_result",
          "data": {
            "text/plain": [
              "{'angry': 0,\n",
              " 'disgusted': 1,\n",
              " 'fearful': 2,\n",
              " 'happy': 3,\n",
              " 'neutral': 4,\n",
              " 'sad': 5,\n",
              " 'surprised': 6}"
            ]
          },
          "metadata": {
            "tags": []
          },
          "execution_count": 17
        }
      ]
    },
    {
      "cell_type": "code",
      "metadata": {
        "colab": {
          "base_uri": "https://localhost:8080/"
        },
        "id": "HzcB-FRxGOlL",
        "outputId": "4ce6fbe9-a749-4239-8097-2807a03fa676"
      },
      "source": [
        "r = model.fit(\r\n",
        "  train_generator,\r\n",
        "  validation_data=val_generator,\r\n",
        "  epochs=epochs,\r\n",
        "  steps_per_epoch=train_count//BATCH_SIZE,\r\n",
        "  validation_steps=test_count//BATCH_SIZE\r\n",
        ")"
      ],
      "execution_count": null,
      "outputs": [
        {
          "output_type": "stream",
          "text": [
            "Epoch 1/150\n",
            "767/767 [==============================] - 29s 28ms/step - loss: 1.8289 - accuracy: 0.2432 - val_loss: 1.6671 - val_accuracy: 0.3434\n",
            "Epoch 2/150\n",
            "767/767 [==============================] - 20s 27ms/step - loss: 1.6334 - accuracy: 0.3736 - val_loss: 1.7098 - val_accuracy: 0.3227\n",
            "Epoch 3/150\n",
            "767/767 [==============================] - 20s 26ms/step - loss: 1.5408 - accuracy: 0.4225 - val_loss: 1.8906 - val_accuracy: 0.2609\n",
            "Epoch 4/150\n",
            "767/767 [==============================] - 20s 26ms/step - loss: 1.4908 - accuracy: 0.4457 - val_loss: 1.4205 - val_accuracy: 0.4803\n",
            "Epoch 5/150\n",
            "767/767 [==============================] - 20s 25ms/step - loss: 1.4450 - accuracy: 0.4624 - val_loss: 1.3694 - val_accuracy: 0.4944\n",
            "Epoch 6/150\n",
            "767/767 [==============================] - 20s 26ms/step - loss: 1.4230 - accuracy: 0.4772 - val_loss: 1.3846 - val_accuracy: 0.4898\n",
            "Epoch 7/150\n",
            "767/767 [==============================] - 19s 25ms/step - loss: 1.4007 - accuracy: 0.4906 - val_loss: 1.3466 - val_accuracy: 0.4990\n",
            "Epoch 8/150\n",
            "767/767 [==============================] - 19s 25ms/step - loss: 1.3842 - accuracy: 0.4944 - val_loss: 1.3532 - val_accuracy: 0.5087\n",
            "Epoch 9/150\n",
            "767/767 [==============================] - 19s 25ms/step - loss: 1.3873 - accuracy: 0.4963 - val_loss: 1.3328 - val_accuracy: 0.5095\n",
            "Epoch 10/150\n",
            "767/767 [==============================] - 19s 25ms/step - loss: 1.3711 - accuracy: 0.5056 - val_loss: 1.3431 - val_accuracy: 0.5217\n",
            "Epoch 11/150\n",
            "767/767 [==============================] - 19s 25ms/step - loss: 1.3652 - accuracy: 0.5090 - val_loss: 1.2924 - val_accuracy: 0.5348\n",
            "Epoch 12/150\n",
            "767/767 [==============================] - 19s 25ms/step - loss: 1.3537 - accuracy: 0.5166 - val_loss: 1.3216 - val_accuracy: 0.5260\n",
            "Epoch 13/150\n",
            "767/767 [==============================] - 19s 25ms/step - loss: 1.3502 - accuracy: 0.5157 - val_loss: 1.3881 - val_accuracy: 0.4997\n",
            "Epoch 14/150\n",
            "767/767 [==============================] - 19s 25ms/step - loss: 1.3523 - accuracy: 0.5167 - val_loss: 1.3761 - val_accuracy: 0.5087\n",
            "Epoch 15/150\n",
            "767/767 [==============================] - 19s 25ms/step - loss: 1.3307 - accuracy: 0.5312 - val_loss: 1.2862 - val_accuracy: 0.5436\n",
            "Epoch 16/150\n",
            "767/767 [==============================] - 19s 25ms/step - loss: 1.3311 - accuracy: 0.5286 - val_loss: 1.3149 - val_accuracy: 0.5352\n",
            "Epoch 17/150\n",
            "767/767 [==============================] - 19s 25ms/step - loss: 1.3347 - accuracy: 0.5259 - val_loss: 1.3347 - val_accuracy: 0.5214\n",
            "Epoch 18/150\n",
            "767/767 [==============================] - 19s 25ms/step - loss: 1.3103 - accuracy: 0.5354 - val_loss: 1.2836 - val_accuracy: 0.5498\n",
            "Epoch 19/150\n",
            "767/767 [==============================] - 19s 25ms/step - loss: 1.3172 - accuracy: 0.5369 - val_loss: 1.3233 - val_accuracy: 0.5362\n",
            "Epoch 20/150\n",
            "767/767 [==============================] - 19s 25ms/step - loss: 1.3257 - accuracy: 0.5288 - val_loss: 1.2836 - val_accuracy: 0.5491\n",
            "Epoch 21/150\n",
            "767/767 [==============================] - 19s 25ms/step - loss: 1.3018 - accuracy: 0.5437 - val_loss: 1.2750 - val_accuracy: 0.5447\n",
            "Epoch 22/150\n",
            "767/767 [==============================] - 19s 25ms/step - loss: 1.3136 - accuracy: 0.5417 - val_loss: 1.2457 - val_accuracy: 0.5596\n",
            "Epoch 23/150\n",
            "767/767 [==============================] - 19s 25ms/step - loss: 1.2985 - accuracy: 0.5454 - val_loss: 1.3499 - val_accuracy: 0.5221\n",
            "Epoch 24/150\n",
            "767/767 [==============================] - 19s 25ms/step - loss: 1.3069 - accuracy: 0.5408 - val_loss: 1.2339 - val_accuracy: 0.5684\n",
            "Epoch 25/150\n",
            "767/767 [==============================] - 19s 25ms/step - loss: 1.2978 - accuracy: 0.5448 - val_loss: 1.2682 - val_accuracy: 0.5518\n",
            "Epoch 26/150\n",
            "767/767 [==============================] - 19s 25ms/step - loss: 1.3158 - accuracy: 0.5354 - val_loss: 1.3713 - val_accuracy: 0.5131\n",
            "Epoch 27/150\n",
            "767/767 [==============================] - 19s 25ms/step - loss: 1.2880 - accuracy: 0.5566 - val_loss: 1.3383 - val_accuracy: 0.5144\n",
            "Epoch 28/150\n",
            "767/767 [==============================] - 19s 25ms/step - loss: 1.2998 - accuracy: 0.5512 - val_loss: 1.2826 - val_accuracy: 0.5518\n",
            "Epoch 29/150\n",
            "767/767 [==============================] - 19s 25ms/step - loss: 1.3022 - accuracy: 0.5435 - val_loss: 1.2725 - val_accuracy: 0.5511\n",
            "Epoch 30/150\n",
            "767/767 [==============================] - 19s 25ms/step - loss: 1.2860 - accuracy: 0.5542 - val_loss: 1.3262 - val_accuracy: 0.5397\n",
            "Epoch 31/150\n",
            "767/767 [==============================] - 19s 25ms/step - loss: 1.3079 - accuracy: 0.5422 - val_loss: 1.2548 - val_accuracy: 0.5635\n",
            "Epoch 32/150\n",
            "767/767 [==============================] - 19s 25ms/step - loss: 1.3000 - accuracy: 0.5455 - val_loss: 1.4282 - val_accuracy: 0.5119\n",
            "Epoch 33/150\n",
            "767/767 [==============================] - 19s 25ms/step - loss: 1.2964 - accuracy: 0.5537 - val_loss: 1.2351 - val_accuracy: 0.5701\n",
            "Epoch 34/150\n",
            "767/767 [==============================] - 19s 25ms/step - loss: 1.2914 - accuracy: 0.5518 - val_loss: 1.2581 - val_accuracy: 0.5577\n",
            "Epoch 35/150\n",
            "767/767 [==============================] - 19s 25ms/step - loss: 1.2968 - accuracy: 0.5540 - val_loss: 1.2914 - val_accuracy: 0.5462\n",
            "Epoch 36/150\n",
            "767/767 [==============================] - 19s 25ms/step - loss: 1.3016 - accuracy: 0.5449 - val_loss: 1.2442 - val_accuracy: 0.5644\n",
            "Epoch 37/150\n",
            "767/767 [==============================] - 19s 25ms/step - loss: 1.2737 - accuracy: 0.5550 - val_loss: 1.2789 - val_accuracy: 0.5583\n",
            "Epoch 38/150\n",
            "767/767 [==============================] - 19s 25ms/step - loss: 1.2831 - accuracy: 0.5565 - val_loss: 1.2778 - val_accuracy: 0.5550\n",
            "Epoch 39/150\n",
            "767/767 [==============================] - 20s 25ms/step - loss: 1.2844 - accuracy: 0.5559 - val_loss: 1.2422 - val_accuracy: 0.5630\n",
            "Epoch 40/150\n",
            "767/767 [==============================] - 19s 25ms/step - loss: 1.2909 - accuracy: 0.5554 - val_loss: 1.2533 - val_accuracy: 0.5717\n",
            "Epoch 41/150\n",
            "767/767 [==============================] - 19s 25ms/step - loss: 1.2879 - accuracy: 0.5590 - val_loss: 1.2427 - val_accuracy: 0.5589\n",
            "Epoch 42/150\n",
            "767/767 [==============================] - 19s 25ms/step - loss: 1.2845 - accuracy: 0.5540 - val_loss: 1.2469 - val_accuracy: 0.5686\n",
            "Epoch 43/150\n",
            "767/767 [==============================] - 19s 25ms/step - loss: 1.2812 - accuracy: 0.5592 - val_loss: 1.2510 - val_accuracy: 0.5630\n",
            "Epoch 44/150\n",
            "767/767 [==============================] - 19s 25ms/step - loss: 1.2885 - accuracy: 0.5615 - val_loss: 1.3109 - val_accuracy: 0.5443\n",
            "Epoch 45/150\n",
            "767/767 [==============================] - 19s 25ms/step - loss: 1.2747 - accuracy: 0.5615 - val_loss: 1.7300 - val_accuracy: 0.4304\n",
            "Epoch 46/150\n",
            "767/767 [==============================] - 19s 25ms/step - loss: 1.2823 - accuracy: 0.5615 - val_loss: 1.2539 - val_accuracy: 0.5712\n",
            "Epoch 47/150\n",
            "767/767 [==============================] - 19s 25ms/step - loss: 1.2799 - accuracy: 0.5634 - val_loss: 1.3456 - val_accuracy: 0.5377\n",
            "Epoch 48/150\n",
            "767/767 [==============================] - 19s 25ms/step - loss: 1.2808 - accuracy: 0.5603 - val_loss: 1.2395 - val_accuracy: 0.5729\n",
            "Epoch 49/150\n",
            "767/767 [==============================] - 19s 25ms/step - loss: 1.2805 - accuracy: 0.5559 - val_loss: 1.3472 - val_accuracy: 0.5506\n",
            "Epoch 50/150\n",
            "767/767 [==============================] - 19s 25ms/step - loss: 1.2700 - accuracy: 0.5679 - val_loss: 1.2722 - val_accuracy: 0.5564\n",
            "Epoch 51/150\n",
            "767/767 [==============================] - 19s 25ms/step - loss: 1.2810 - accuracy: 0.5596 - val_loss: 1.3782 - val_accuracy: 0.5214\n",
            "Epoch 52/150\n",
            "767/767 [==============================] - 19s 25ms/step - loss: 1.2775 - accuracy: 0.5599 - val_loss: 1.3041 - val_accuracy: 0.5489\n",
            "Epoch 53/150\n",
            "767/767 [==============================] - 19s 25ms/step - loss: 1.2723 - accuracy: 0.5631 - val_loss: 1.2302 - val_accuracy: 0.5749\n",
            "Epoch 54/150\n",
            "767/767 [==============================] - 19s 25ms/step - loss: 1.2794 - accuracy: 0.5601 - val_loss: 1.2968 - val_accuracy: 0.5625\n",
            "Epoch 55/150\n",
            "767/767 [==============================] - 19s 25ms/step - loss: 1.2804 - accuracy: 0.5639 - val_loss: 1.2346 - val_accuracy: 0.5780\n",
            "Epoch 56/150\n",
            "767/767 [==============================] - 19s 25ms/step - loss: 1.2848 - accuracy: 0.5572 - val_loss: 1.2315 - val_accuracy: 0.5802\n",
            "Epoch 57/150\n",
            "767/767 [==============================] - 19s 25ms/step - loss: 1.2798 - accuracy: 0.5609 - val_loss: 1.2531 - val_accuracy: 0.5695\n",
            "Epoch 58/150\n",
            "767/767 [==============================] - 19s 25ms/step - loss: 1.2758 - accuracy: 0.5681 - val_loss: 1.2834 - val_accuracy: 0.5576\n",
            "Epoch 59/150\n",
            "767/767 [==============================] - 19s 25ms/step - loss: 1.2773 - accuracy: 0.5679 - val_loss: 1.2681 - val_accuracy: 0.5659\n",
            "Epoch 60/150\n",
            "767/767 [==============================] - 19s 25ms/step - loss: 1.2726 - accuracy: 0.5664 - val_loss: 1.2650 - val_accuracy: 0.5667\n",
            "Epoch 61/150\n",
            "767/767 [==============================] - 19s 25ms/step - loss: 1.2831 - accuracy: 0.5631 - val_loss: 1.2705 - val_accuracy: 0.5627\n",
            "Epoch 62/150\n",
            "767/767 [==============================] - 19s 25ms/step - loss: 1.2774 - accuracy: 0.5655 - val_loss: 1.2857 - val_accuracy: 0.5513\n",
            "Epoch 63/150\n",
            "767/767 [==============================] - 19s 25ms/step - loss: 1.2644 - accuracy: 0.5728 - val_loss: 1.2836 - val_accuracy: 0.5555\n",
            "Epoch 64/150\n",
            "767/767 [==============================] - 19s 25ms/step - loss: 1.2828 - accuracy: 0.5635 - val_loss: 1.2012 - val_accuracy: 0.5934\n",
            "Epoch 65/150\n",
            "767/767 [==============================] - 19s 25ms/step - loss: 1.2796 - accuracy: 0.5696 - val_loss: 1.3749 - val_accuracy: 0.5639\n",
            "Epoch 66/150\n",
            "767/767 [==============================] - 19s 25ms/step - loss: 1.2951 - accuracy: 0.5602 - val_loss: 1.2676 - val_accuracy: 0.5666\n",
            "Epoch 67/150\n",
            "767/767 [==============================] - 19s 25ms/step - loss: 1.2878 - accuracy: 0.5610 - val_loss: 1.2880 - val_accuracy: 0.5671\n",
            "Epoch 68/150\n",
            "767/767 [==============================] - 19s 25ms/step - loss: 1.2868 - accuracy: 0.5677 - val_loss: 1.3554 - val_accuracy: 0.5503\n",
            "Epoch 69/150\n",
            "767/767 [==============================] - 19s 25ms/step - loss: 1.2845 - accuracy: 0.5636 - val_loss: 1.2523 - val_accuracy: 0.5695\n",
            "Epoch 70/150\n",
            "767/767 [==============================] - 19s 25ms/step - loss: 1.2779 - accuracy: 0.5623 - val_loss: 1.2763 - val_accuracy: 0.5632\n",
            "Epoch 71/150\n",
            "767/767 [==============================] - 20s 26ms/step - loss: 1.2890 - accuracy: 0.5567 - val_loss: 1.2810 - val_accuracy: 0.5603\n",
            "Epoch 72/150\n",
            "767/767 [==============================] - 19s 25ms/step - loss: 1.2876 - accuracy: 0.5625 - val_loss: 1.2802 - val_accuracy: 0.5635\n",
            "Epoch 73/150\n",
            "767/767 [==============================] - 19s 25ms/step - loss: 1.2822 - accuracy: 0.5627 - val_loss: 1.2572 - val_accuracy: 0.5690\n",
            "Epoch 74/150\n",
            "767/767 [==============================] - 19s 25ms/step - loss: 1.2830 - accuracy: 0.5634 - val_loss: 1.2364 - val_accuracy: 0.5819\n",
            "Epoch 75/150\n",
            "767/767 [==============================] - 19s 25ms/step - loss: 1.2812 - accuracy: 0.5638 - val_loss: 1.2711 - val_accuracy: 0.5533\n",
            "Epoch 76/150\n",
            "767/767 [==============================] - 19s 25ms/step - loss: 1.2939 - accuracy: 0.5621 - val_loss: 1.2798 - val_accuracy: 0.5803\n",
            "Epoch 77/150\n",
            "767/767 [==============================] - 19s 25ms/step - loss: 1.2896 - accuracy: 0.5663 - val_loss: 1.2441 - val_accuracy: 0.5781\n",
            "Epoch 78/150\n",
            "767/767 [==============================] - 19s 25ms/step - loss: 1.2895 - accuracy: 0.5637 - val_loss: 1.3300 - val_accuracy: 0.5586\n",
            "Epoch 79/150\n",
            "767/767 [==============================] - 19s 25ms/step - loss: 1.2759 - accuracy: 0.5697 - val_loss: 1.3099 - val_accuracy: 0.5562\n",
            "Epoch 80/150\n",
            "767/767 [==============================] - 19s 25ms/step - loss: 1.2866 - accuracy: 0.5652 - val_loss: 1.2685 - val_accuracy: 0.5571\n",
            "Epoch 81/150\n",
            "767/767 [==============================] - 19s 25ms/step - loss: 1.2790 - accuracy: 0.5691 - val_loss: 1.3045 - val_accuracy: 0.5498\n",
            "Epoch 82/150\n",
            "767/767 [==============================] - 19s 25ms/step - loss: 1.2870 - accuracy: 0.5642 - val_loss: 1.2213 - val_accuracy: 0.5785\n",
            "Epoch 83/150\n",
            "767/767 [==============================] - 19s 25ms/step - loss: 1.2875 - accuracy: 0.5683 - val_loss: 1.3104 - val_accuracy: 0.5533\n",
            "Epoch 84/150\n",
            "767/767 [==============================] - 19s 25ms/step - loss: 1.2959 - accuracy: 0.5587 - val_loss: 1.2867 - val_accuracy: 0.5649\n",
            "Epoch 85/150\n",
            "767/767 [==============================] - 19s 25ms/step - loss: 1.2927 - accuracy: 0.5642 - val_loss: 1.2522 - val_accuracy: 0.5793\n",
            "Epoch 86/150\n",
            "767/767 [==============================] - 19s 25ms/step - loss: 1.2784 - accuracy: 0.5725 - val_loss: 1.2880 - val_accuracy: 0.5761\n",
            "Epoch 87/150\n",
            "767/767 [==============================] - 19s 25ms/step - loss: 1.2822 - accuracy: 0.5663 - val_loss: 1.2196 - val_accuracy: 0.5861\n",
            "Epoch 88/150\n",
            "767/767 [==============================] - 19s 25ms/step - loss: 1.2716 - accuracy: 0.5683 - val_loss: 1.2389 - val_accuracy: 0.5742\n",
            "Epoch 89/150\n",
            "767/767 [==============================] - 19s 25ms/step - loss: 1.2861 - accuracy: 0.5622 - val_loss: 1.2655 - val_accuracy: 0.5732\n",
            "Epoch 90/150\n",
            "767/767 [==============================] - 19s 25ms/step - loss: 1.2745 - accuracy: 0.5693 - val_loss: 1.3833 - val_accuracy: 0.5453\n",
            "Epoch 91/150\n",
            "767/767 [==============================] - 19s 25ms/step - loss: 1.2810 - accuracy: 0.5628 - val_loss: 1.2930 - val_accuracy: 0.5705\n",
            "Epoch 92/150\n",
            "767/767 [==============================] - 19s 24ms/step - loss: 1.2988 - accuracy: 0.5619 - val_loss: 1.2629 - val_accuracy: 0.5683\n",
            "Epoch 93/150\n",
            "767/767 [==============================] - 19s 25ms/step - loss: 1.2830 - accuracy: 0.5697 - val_loss: 1.2274 - val_accuracy: 0.5844\n",
            "Epoch 94/150\n",
            "767/767 [==============================] - 19s 25ms/step - loss: 1.2796 - accuracy: 0.5725 - val_loss: 1.2729 - val_accuracy: 0.5552\n",
            "Epoch 95/150\n",
            "767/767 [==============================] - 19s 25ms/step - loss: 1.2731 - accuracy: 0.5758 - val_loss: 1.2639 - val_accuracy: 0.5820\n",
            "Epoch 96/150\n",
            "767/767 [==============================] - 19s 25ms/step - loss: 1.2813 - accuracy: 0.5694 - val_loss: 1.2838 - val_accuracy: 0.5654\n",
            "Epoch 97/150\n",
            "767/767 [==============================] - 19s 24ms/step - loss: 1.2786 - accuracy: 0.5692 - val_loss: 1.2682 - val_accuracy: 0.5642\n",
            "Epoch 98/150\n",
            "767/767 [==============================] - 19s 25ms/step - loss: 1.2896 - accuracy: 0.5653 - val_loss: 1.3185 - val_accuracy: 0.5421\n",
            "Epoch 99/150\n",
            "767/767 [==============================] - 19s 24ms/step - loss: 1.2839 - accuracy: 0.5732 - val_loss: 1.2709 - val_accuracy: 0.5766\n",
            "Epoch 100/150\n",
            "767/767 [==============================] - 19s 25ms/step - loss: 1.2912 - accuracy: 0.5624 - val_loss: 1.4572 - val_accuracy: 0.5482\n",
            "Epoch 101/150\n",
            "767/767 [==============================] - 19s 24ms/step - loss: 1.2883 - accuracy: 0.5678 - val_loss: 1.2567 - val_accuracy: 0.5742\n",
            "Epoch 102/150\n",
            "767/767 [==============================] - 19s 25ms/step - loss: 1.2712 - accuracy: 0.5725 - val_loss: 1.2265 - val_accuracy: 0.5842\n",
            "Epoch 103/150\n",
            "767/767 [==============================] - 19s 25ms/step - loss: 1.2794 - accuracy: 0.5763 - val_loss: 1.2704 - val_accuracy: 0.5759\n",
            "Epoch 104/150\n",
            "767/767 [==============================] - 20s 26ms/step - loss: 1.2994 - accuracy: 0.5639 - val_loss: 1.2474 - val_accuracy: 0.5774\n",
            "Epoch 105/150\n",
            "767/767 [==============================] - 19s 25ms/step - loss: 1.2699 - accuracy: 0.5775 - val_loss: 1.2769 - val_accuracy: 0.5766\n",
            "Epoch 106/150\n",
            "767/767 [==============================] - 19s 25ms/step - loss: 1.2767 - accuracy: 0.5729 - val_loss: 1.3083 - val_accuracy: 0.5577\n",
            "Epoch 107/150\n",
            "767/767 [==============================] - 19s 25ms/step - loss: 1.2766 - accuracy: 0.5655 - val_loss: 1.2324 - val_accuracy: 0.5822\n",
            "Epoch 108/150\n",
            "767/767 [==============================] - 19s 25ms/step - loss: 1.2629 - accuracy: 0.5768 - val_loss: 1.2833 - val_accuracy: 0.5645\n",
            "Epoch 109/150\n",
            "767/767 [==============================] - 19s 25ms/step - loss: 1.2995 - accuracy: 0.5643 - val_loss: 1.2897 - val_accuracy: 0.5642\n",
            "Epoch 110/150\n",
            "767/767 [==============================] - 19s 25ms/step - loss: 1.2943 - accuracy: 0.5627 - val_loss: 1.3074 - val_accuracy: 0.5494\n",
            "Epoch 111/150\n",
            "767/767 [==============================] - 19s 25ms/step - loss: 1.2668 - accuracy: 0.5762 - val_loss: 1.3609 - val_accuracy: 0.5426\n",
            "Epoch 112/150\n",
            "767/767 [==============================] - 19s 25ms/step - loss: 1.2975 - accuracy: 0.5648 - val_loss: 1.4120 - val_accuracy: 0.5296\n",
            "Epoch 113/150\n",
            "767/767 [==============================] - 19s 25ms/step - loss: 1.2930 - accuracy: 0.5701 - val_loss: 1.4752 - val_accuracy: 0.5394\n",
            "Epoch 114/150\n",
            "767/767 [==============================] - 19s 25ms/step - loss: 1.2811 - accuracy: 0.5722 - val_loss: 1.3032 - val_accuracy: 0.5756\n",
            "Epoch 115/150\n",
            "767/767 [==============================] - 19s 25ms/step - loss: 1.2904 - accuracy: 0.5645 - val_loss: 1.3061 - val_accuracy: 0.5659\n",
            "Epoch 116/150\n",
            "767/767 [==============================] - 19s 25ms/step - loss: 1.2898 - accuracy: 0.5657 - val_loss: 1.2970 - val_accuracy: 0.5695\n",
            "Epoch 117/150\n",
            "767/767 [==============================] - 19s 25ms/step - loss: 1.2940 - accuracy: 0.5682 - val_loss: 1.3421 - val_accuracy: 0.5528\n",
            "Epoch 118/150\n",
            "767/767 [==============================] - 19s 25ms/step - loss: 1.2901 - accuracy: 0.5716 - val_loss: 1.2318 - val_accuracy: 0.5875\n",
            "Epoch 119/150\n",
            "767/767 [==============================] - 19s 25ms/step - loss: 1.2947 - accuracy: 0.5655 - val_loss: 1.3257 - val_accuracy: 0.5849\n",
            "Epoch 120/150\n",
            "767/767 [==============================] - 20s 26ms/step - loss: 1.2926 - accuracy: 0.5658 - val_loss: 1.2764 - val_accuracy: 0.5773\n",
            "Epoch 121/150\n",
            "767/767 [==============================] - 19s 25ms/step - loss: 1.2859 - accuracy: 0.5685 - val_loss: 1.3195 - val_accuracy: 0.5654\n",
            "Epoch 122/150\n",
            "767/767 [==============================] - 19s 25ms/step - loss: 1.2838 - accuracy: 0.5648 - val_loss: 1.2759 - val_accuracy: 0.5824\n",
            "Epoch 123/150\n",
            "767/767 [==============================] - 19s 25ms/step - loss: 1.2846 - accuracy: 0.5697 - val_loss: 1.2556 - val_accuracy: 0.5810\n",
            "Epoch 124/150\n",
            "767/767 [==============================] - 19s 25ms/step - loss: 1.2987 - accuracy: 0.5640 - val_loss: 1.3095 - val_accuracy: 0.5601\n",
            "Epoch 125/150\n",
            "767/767 [==============================] - 20s 26ms/step - loss: 1.2777 - accuracy: 0.5702 - val_loss: 1.2983 - val_accuracy: 0.5635\n",
            "Epoch 126/150\n",
            "767/767 [==============================] - 20s 26ms/step - loss: 1.3000 - accuracy: 0.5605 - val_loss: 1.2586 - val_accuracy: 0.5822\n",
            "Epoch 127/150\n",
            "767/767 [==============================] - 20s 26ms/step - loss: 1.2941 - accuracy: 0.5655 - val_loss: 1.2047 - val_accuracy: 0.5980\n",
            "Epoch 128/150\n",
            "767/767 [==============================] - 20s 26ms/step - loss: 1.2851 - accuracy: 0.5670 - val_loss: 1.2247 - val_accuracy: 0.5847\n",
            "Epoch 129/150\n",
            "767/767 [==============================] - 19s 25ms/step - loss: 1.2950 - accuracy: 0.5649 - val_loss: 1.3231 - val_accuracy: 0.5581\n",
            "Epoch 130/150\n",
            "767/767 [==============================] - 19s 25ms/step - loss: 1.2958 - accuracy: 0.5682 - val_loss: 1.3188 - val_accuracy: 0.5537\n",
            "Epoch 131/150\n",
            "767/767 [==============================] - 20s 26ms/step - loss: 1.2756 - accuracy: 0.5737 - val_loss: 1.2972 - val_accuracy: 0.5718\n",
            "Epoch 132/150\n",
            "767/767 [==============================] - 20s 26ms/step - loss: 1.2905 - accuracy: 0.5678 - val_loss: 1.2804 - val_accuracy: 0.5732\n",
            "Epoch 133/150\n",
            "767/767 [==============================] - 19s 25ms/step - loss: 1.2925 - accuracy: 0.5671 - val_loss: 1.2265 - val_accuracy: 0.5814\n",
            "Epoch 134/150\n",
            "767/767 [==============================] - 19s 25ms/step - loss: 1.2892 - accuracy: 0.5698 - val_loss: 1.2602 - val_accuracy: 0.5756\n",
            "Epoch 135/150\n",
            "767/767 [==============================] - 19s 25ms/step - loss: 1.2944 - accuracy: 0.5656 - val_loss: 1.2236 - val_accuracy: 0.5871\n",
            "Epoch 136/150\n",
            "767/767 [==============================] - 20s 26ms/step - loss: 1.2987 - accuracy: 0.5664 - val_loss: 1.2472 - val_accuracy: 0.5752\n",
            "Epoch 137/150\n",
            "767/767 [==============================] - 19s 25ms/step - loss: 1.2913 - accuracy: 0.5682 - val_loss: 1.3261 - val_accuracy: 0.5605\n",
            "Epoch 138/150\n",
            "767/767 [==============================] - 19s 25ms/step - loss: 1.2972 - accuracy: 0.5659 - val_loss: 1.2430 - val_accuracy: 0.5946\n",
            "Epoch 139/150\n",
            "767/767 [==============================] - 19s 25ms/step - loss: 1.2876 - accuracy: 0.5628 - val_loss: 1.2319 - val_accuracy: 0.5836\n",
            "Epoch 140/150\n",
            "767/767 [==============================] - 19s 25ms/step - loss: 1.2973 - accuracy: 0.5640 - val_loss: 1.2707 - val_accuracy: 0.5681\n",
            "Epoch 141/150\n",
            "767/767 [==============================] - 19s 25ms/step - loss: 1.2890 - accuracy: 0.5668 - val_loss: 1.2898 - val_accuracy: 0.5683\n",
            "Epoch 142/150\n",
            "767/767 [==============================] - 19s 25ms/step - loss: 1.3030 - accuracy: 0.5624 - val_loss: 1.3276 - val_accuracy: 0.5698\n",
            "Epoch 143/150\n",
            "767/767 [==============================] - 19s 25ms/step - loss: 1.2989 - accuracy: 0.5662 - val_loss: 1.2352 - val_accuracy: 0.5707\n",
            "Epoch 144/150\n",
            "767/767 [==============================] - 20s 25ms/step - loss: 1.2850 - accuracy: 0.5690 - val_loss: 1.2813 - val_accuracy: 0.5834\n",
            "Epoch 145/150\n",
            "767/767 [==============================] - 19s 25ms/step - loss: 1.2755 - accuracy: 0.5724 - val_loss: 1.3440 - val_accuracy: 0.5577\n",
            "Epoch 146/150\n",
            "767/767 [==============================] - 19s 25ms/step - loss: 1.2828 - accuracy: 0.5658 - val_loss: 1.2191 - val_accuracy: 0.5771\n",
            "Epoch 147/150\n",
            "767/767 [==============================] - 19s 25ms/step - loss: 1.2836 - accuracy: 0.5730 - val_loss: 1.2599 - val_accuracy: 0.5802\n",
            "Epoch 148/150\n",
            "767/767 [==============================] - 19s 25ms/step - loss: 1.2916 - accuracy: 0.5667 - val_loss: 1.2568 - val_accuracy: 0.5707\n",
            "Epoch 149/150\n",
            "767/767 [==============================] - 19s 25ms/step - loss: 1.2790 - accuracy: 0.5755 - val_loss: 1.2776 - val_accuracy: 0.5722\n",
            "Epoch 150/150\n",
            "767/767 [==============================] - 19s 25ms/step - loss: 1.3005 - accuracy: 0.5622 - val_loss: 1.3298 - val_accuracy: 0.5759\n"
          ],
          "name": "stdout"
        }
      ]
    },
    {
      "cell_type": "code",
      "metadata": {
        "id": "4cUBw-DWXgGM"
      },
      "source": [
        "model.save(\"model.hdf5\")"
      ],
      "execution_count": null,
      "outputs": []
    },
    {
      "cell_type": "code",
      "metadata": {
        "colab": {
          "base_uri": "https://localhost:8080/",
          "height": 295
        },
        "id": "bppCvnKUM8uy",
        "outputId": "67c536e0-b606-4d42-a23e-30bade220b68"
      },
      "source": [
        "plt.plot(r.history['loss'])\r\n",
        "plt.plot(r.history['val_loss'])\r\n",
        "plt.title('model loss')\r\n",
        "plt.ylabel('loss')\r\n",
        "plt.xlabel('epoch')\r\n",
        "plt.legend(['train', 'val'], loc='upper left')\r\n",
        "plt.show()"
      ],
      "execution_count": null,
      "outputs": [
        {
          "output_type": "display_data",
          "data": {
            "image/png": "[encoded data removed]",
            "text/plain": [
              "<Figure size 432x288 with 1 Axes>"
            ]
          },
          "metadata": {
            "tags": [],
            "needs_background": "light"
          }
        }
      ]
    },
    {
      "cell_type": "code",
      "metadata": {
        "colab": {
          "base_uri": "https://localhost:8080/",
          "height": 295
        },
        "id": "VNbic-pKNDbv",
        "outputId": "558ec9e8-350b-43c4-d6bd-d5f0015d281f"
      },
      "source": [
        "plt.plot(r.history['accuracy'])\r\n",
        "plt.plot(r.history['val_accuracy'])\r\n",
        "plt.title('model accuracy')\r\n",
        "plt.ylabel('accuracy')\r\n",
        "plt.xlabel('epoch')\r\n",
        "plt.legend(['train', 'val'], loc='upper left')\r\n",
        "plt.show()"
      ],
      "execution_count": null,
      "outputs": [
        {
          "output_type": "display_data",
          "data": {
            "image/png": "[encoded data removed]",
            "text/plain": [
              "<Figure size 432x288 with 1 Axes>"
            ]
          },
          "metadata": {
            "tags": [],
            "needs_background": "light"
          }
        }
      ]
    }
  ]
}